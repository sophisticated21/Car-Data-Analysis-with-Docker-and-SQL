{
 "cells": [
  {
   "cell_type": "code",
   "execution_count": null,
   "metadata": {},
   "outputs": [],
   "source": [
    "import psycopg2\n",
    "import pandas as pd\n",
    "\n",
    "conn = psycopg2.connect(\n",
    "    host=\"db\",\n",
    "    database=\"postgres\",\n",
    "    user=\"postgres\",\n",
    "    password=\"postgres\"\n",
    ")"
   ]
  },
  {
   "cell_type": "code",
   "execution_count": null,
   "metadata": {},
   "outputs": [],
   "source": [
    "# Create a new table with the desired column names and data types\n",
    "cur = conn.cursor()\n",
    "cur.execute(\"DROP TABLE IF EXISTS cars\")\n",
    "cur.execute(\"CREATE TABLE cars (Car_Name VARCHAR(50), Year INTEGER, Selling_Price FLOAT, Present_Price FLOAT, Kms_Driven INTEGER, Fuel_Type VARCHAR(10), Seller_Type VARCHAR(10), Transmission VARCHAR(10), Owner INTEGER)\")\n",
    "\n",
    "# Load the data from your CSV file into a pandas DataFrame\n",
    "df = pd.read_csv('/home/jovyan/work/cardata.csv')\n",
    "\n",
    "# Insert the data from the pandas DataFrame into the new table\n",
    "for index, row in df.iterrows():\n",
    "    cur.execute(\"INSERT INTO cars (Car_Name, Year, Selling_Price, Present_Price, Kms_Driven, Fuel_Type, Seller_Type, Transmission, Owner) VALUES (%s, %s, %s, %s, %s, %s, %s, %s, %s)\", (row['Car_Name'], row['Year'], row['Selling_Price'], row['Present_Price'], row['Kms_Driven'], row['Fuel_Type'], row['Seller_Type'], row['Transmission'], row['Owner']))\n",
    "\n",
    "# Commit the changes to the database\n",
    "conn.commit()"
   ]
  },
  {
   "attachments": {},
   "cell_type": "markdown",
   "metadata": {},
   "source": [
    "**Question 1**: What is the average selling price of cars by fuel type?"
   ]
  },
  {
   "cell_type": "code",
   "execution_count": null,
   "metadata": {},
   "outputs": [],
   "source": [
    "cur.execute(\"\"\"\n",
    "    SELECT Car_Name, MAX(Selling_Price) as Max_Selling_Price\n",
    "    FROM cars\n",
    "    GROUP BY Car_Name\n",
    "    ORDER BY Max_Selling_Price DESC\n",
    "    LIMIT 1;\n",
    "\n",
    "\"\"\")\n",
    "\n",
    "# Fetch all the rows of the query result\n",
    "rows = cur.fetchall()\n",
    "\n",
    "# Print the rows\n",
    "for row in rows:\n",
    "    print(row)"
   ]
  },
  {
   "cell_type": "markdown",
   "metadata": {},
   "source": [
    "**Question 2:** What is the most expensive car by make and model?"
   ]
  },
  {
   "attachments": {},
   "cell_type": "markdown",
   "metadata": {},
   "source": [
    "cur.execute(\"\"\"\n",
    "    SELECT Fuel_Type, AVG(Selling_Price) as Average_Selling_Price\n",
    "    FROM cars\n",
    "    GROUP BY Fuel_Type;\n",
    "\"\"\")\n",
    "\n",
    "# Fetch all the rows of the query result\n",
    "rows = cur.fetchall()\n",
    "\n",
    "# Print the rows\n",
    "for row in rows:\n",
    "    print(row)"
   ]
  },
  {
   "attachments": {},
   "cell_type": "markdown",
   "metadata": {},
   "source": [
    "**Question 3**: How many cars were sold by transmission type before 2013?"
   ]
  },
  {
   "cell_type": "code",
   "execution_count": null,
   "metadata": {},
   "outputs": [],
   "source": [
    "cur.execute(\"\"\"\n",
    "    SELECT Transmission, COUNT(*) as Total_Cars_Sold\n",
    "    FROM cars\n",
    "    WHERE Year < 2013\n",
    "    GROUP BY Transmission;\n",
    "\"\"\")\n",
    "\n",
    "# Fetch all the rows of the query result\n",
    "rows = cur.fetchall()\n",
    "\n",
    "# Print the rows\n",
    "for row in rows:\n",
    "    print(row)"
   ]
  },
  {
   "attachments": {},
   "cell_type": "markdown",
   "metadata": {},
   "source": [
    "**Question 4:** What is the average depreciation of a car after 5 years of ownership by seller type?"
   ]
  },
  {
   "cell_type": "code",
   "execution_count": null,
   "metadata": {},
   "outputs": [],
   "source": [
    "cur.execute(\"\"\"\n",
    "    SELECT Seller_Type, AVG(Present_Price - Selling_Price) as Average_Depreciation\n",
    "    FROM cars\n",
    "    WHERE Owner = 1 AND Year = 2015\n",
    "    GROUP BY Seller_Type;\n",
    "\"\"\")\n",
    "\n",
    "# Fetch all the rows of the query result\n",
    "rows = cur.fetchall()\n",
    "\n",
    "# Print the rows\n",
    "for row in rows:\n",
    "    print(row)"
   ]
  },
  {
   "attachments": {},
   "cell_type": "markdown",
   "metadata": {},
   "source": [
    "**Question 5:** How many cars have been driven more than 50,000 kilometers and are still owned by the original owner?"
   ]
  },
  {
   "cell_type": "code",
   "execution_count": null,
   "metadata": {},
   "outputs": [],
   "source": [
    "cur.execute(\"\"\"\n",
    "    SELECT COUNT(*) as Total_Cars\n",
    "    FROM cars\n",
    "    WHERE Kms_Driven > 50000 AND Owner = 0;\n",
    "\"\"\")\n",
    "\n",
    "# Fetch all the rows of the query result\n",
    "rows = cur.fetchall()\n",
    "\n",
    "# Print the rows\n",
    "for row in rows:\n",
    "    print(row)"
   ]
  },
  {
   "attachments": {},
   "cell_type": "markdown",
   "metadata": {},
   "source": [
    "**Question 6**: What is the average difference between the selling price and present price of cars with more than 100,000 kms driven?"
   ]
  },
  {
   "cell_type": "code",
   "execution_count": null,
   "metadata": {},
   "outputs": [],
   "source": [
    "cur.execute(\"\"\"\n",
    "    SELECT AVG(Present_Price - Selling_Price) as Average_Difference\n",
    "    FROM cars\n",
    "    WHERE Kms_Driven > 100000;\n",
    "\"\"\")\n",
    "\n",
    "# Fetch all the rows of the query result\n",
    "rows = cur.fetchall()\n",
    "\n",
    "# Print the rows\n",
    "for row in rows:\n",
    "    print(row)"
   ]
  },
  {
   "attachments": {},
   "cell_type": "markdown",
   "metadata": {},
   "source": [
    "**Question 7**:  Which fuel type has the highest average selling price for cars with a transmission type of Automatic?"
   ]
  },
  {
   "cell_type": "code",
   "execution_count": null,
   "metadata": {},
   "outputs": [],
   "source": [
    "cur.execute(\"\"\"\n",
    "    SELECT Fuel_Type, AVG(Selling_Price) as Average_Selling_Price\n",
    "    FROM cars\n",
    "    WHERE Transmission = 'Automatic'\n",
    "    GROUP BY Fuel_Type\n",
    "    ORDER BY Average_Selling_Price DESC\n",
    "    LIMIT 1;\n",
    "\n",
    "\"\"\")\n",
    "\n",
    "# Fetch all the rows of the query result\n",
    "rows = cur.fetchall()\n",
    "\n",
    "# Print the rows\n",
    "for row in rows:\n",
    "    print(row)"
   ]
  },
  {
   "attachments": {},
   "cell_type": "markdown",
   "metadata": {},
   "source": [
    "**Question 8:**  How many cars of each model were sold in 2014?"
   ]
  },
  {
   "cell_type": "code",
   "execution_count": null,
   "metadata": {},
   "outputs": [],
   "source": [
    "cur.execute(\"\"\"\n",
    "    SELECT Car_Name, COUNT(*) as Total_Cars_Sold\n",
    "    FROM cars\n",
    "    WHERE Year = 2014\n",
    "    GROUP BY Car_Name;\n",
    "\n",
    "\n",
    "\"\"\")\n",
    "\n",
    "# Fetch all the rows of the query result\n",
    "rows = cur.fetchall()\n",
    "\n",
    "# Print the rows\n",
    "for row in rows:\n",
    "    print(row)"
   ]
  },
  {
   "attachments": {},
   "cell_type": "markdown",
   "metadata": {},
   "source": [
    "**Question 9**:  Which sellers have the highest average selling price of cars with a manual transmission and at least 2 previous owners?"
   ]
  },
  {
   "cell_type": "code",
   "execution_count": null,
   "metadata": {},
   "outputs": [],
   "source": [
    "cur.execute(\"\"\"\n",
    "    SELECT Seller_Type, AVG(Selling_Price) as Average_Selling_Price\n",
    "    FROM cars\n",
    "    WHERE Transmission = 'Manual' AND Owner = 1\n",
    "    GROUP BY Seller_Type\n",
    "    ORDER BY Average_Selling_Price DESC\n",
    "    LIMIT 1;\n",
    "\"\"\")\n",
    "\n",
    "# Fetch all the rows of the query result\n",
    "rows = cur.fetchall()\n",
    "\n",
    "# Print the rows\n",
    "for row in rows:\n",
    "    print(row)"
   ]
  }
 ],
 "metadata": {
  "language_info": {
   "name": "python"
  },
  "orig_nbformat": 4
 },
 "nbformat": 4,
 "nbformat_minor": 2
}
